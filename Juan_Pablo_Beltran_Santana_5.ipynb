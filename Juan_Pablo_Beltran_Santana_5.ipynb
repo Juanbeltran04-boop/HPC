{
  "nbformat": 4,
  "nbformat_minor": 0,
  "metadata": {
    "colab": {
      "provenance": [],
      "include_colab_link": true
    },
    "kernelspec": {
      "name": "python3",
      "display_name": "Python 3"
    },
    "language_info": {
      "name": "python"
    }
  },
  "cells": [
    {
      "cell_type": "markdown",
      "metadata": {
        "id": "view-in-github",
        "colab_type": "text"
      },
      "source": [
        "<a href=\"https://colab.research.google.com/github/Juanbeltran04-boop/HPC/blob/main/Juan_Pablo_Beltran_Santana_5.ipynb\" target=\"_parent\"><img src=\"https://colab.research.google.com/assets/colab-badge.svg\" alt=\"Open In Colab\"/></a>"
      ]
    },
    {
      "cell_type": "code",
      "execution_count": null,
      "metadata": {
        "id": "XqmCVa7rn2qS"
      },
      "outputs": [],
      "source": [
        "import time\n",
        "import numpy as np\n",
        "import pandas as pd\n",
        "import numpy as np\n",
        "import statsmodels.api as sm\n",
        "import matplotlib.pyplot as plt\n",
        "\n",
        "from statsmodels.stats.diagnostic import het_breuschpagan\n",
        "from statsmodels.stats.stattools import durbin_watson\n",
        "\n",
        "from sklearn.linear_model import LinearRegression"
      ]
    },
    {
      "cell_type": "markdown",
      "source": [
        "# Ejercicio 1\n",
        "\n",
        "Usar métodos de optimización de tiempo y recursos para ejecutar el siguiente codigo."
      ],
      "metadata": {
        "id": "UgGzSj43opmV"
      }
    },
    {
      "cell_type": "code",
      "source": [],
      "metadata": {
        "id": "LX_7ANmjs0Hs"
      },
      "execution_count": null,
      "outputs": []
    },
    {
      "cell_type": "code",
      "source": [
        "\n"
      ],
      "metadata": {
        "id": "jEmL49N32tuS"
      },
      "execution_count": null,
      "outputs": []
    },
    {
      "cell_type": "code",
      "source": [
        "# Semilla para reproducibilidad\n",
        "np.random.seed(42)\n",
        "\n",
        "n = 10**8\n",
        "\n",
        "X1 = np.random.rand(n) * 11\n",
        "X2 = np.random.rand(n) * 5\n",
        "X3 = np.random.rand(n) * 20\n",
        "X4 = np.random.rand(n) * 15\n",
        "X5 = np.random.rand(n) * 24\n",
        "X6 = np.random.rand(n) * 14\n",
        "X7 = np.random.rand(n) * 17\n",
        "X8 = np.random.rand(n) * 24\n",
        "X9 = np.random.rand(n) * 14\n",
        "X10 = np.random.rand(n) * 77\n",
        "\n",
        "XD = np.column_stack((X1, X2, X3, X4, X5, X6, X7, X8, X9, X10))\n",
        "X = sm.add_constant(XD)\n",
        "\n",
        "beta = np.array([5, 2, 0, 1.5, 0, 7, 8,9,11,3.4, -5.6])\n",
        "\n",
        "epsilon = np.random.normal(0, 2, n)\n",
        "\n",
        "Y = X @ beta + epsilon\n",
        "\n",
        "X=pd.DataFrame(X)\n",
        "X.columns=['Intercepto','X1','X2','X3','X4','X5','X6','X7','X8' ,'X9','X10']\n",
        "\n",
        "X['Y']=Y\n",
        "\n",
        "A=np.linalg.inv(np.matmul( np.transpose(X),X))\n",
        "B=np.matmul( np.transpose(X),Y)\n",
        "beta_gorro=np.matmul(A,B)\n",
        "beta_gorro\n",
        "\n"
      ],
      "metadata": {
        "id": "pTtOu_7x3dXg"
      },
      "execution_count": null,
      "outputs": []
    },
    {
      "cell_type": "code",
      "source": [],
      "metadata": {
        "id": "oCjsJ95AtwMW"
      },
      "execution_count": null,
      "outputs": []
    },
    {
      "cell_type": "markdown",
      "source": [
        "# 2. Ejercicio 2\n",
        "\n",
        "Calcular el determinante de la matriz $A$ del ejemplo anterior sin usar funciones de Python como **np.linalg.det()**\n",
        "\n"
      ],
      "metadata": {
        "id": "6DNTuVqHwjQY"
      }
    },
    {
      "cell_type": "code",
      "source": [],
      "metadata": {
        "id": "PWyLTbNHzUrI"
      },
      "execution_count": null,
      "outputs": []
    },
    {
      "cell_type": "code",
      "source": [],
      "metadata": {
        "id": "bKrGrSIWzUnw"
      },
      "execution_count": null,
      "outputs": []
    },
    {
      "cell_type": "code",
      "source": [],
      "metadata": {
        "id": "ghCR3IvQtztm"
      },
      "execution_count": null,
      "outputs": []
    },
    {
      "cell_type": "code",
      "source": [],
      "metadata": {
        "id": "DHgiXopnuk2d"
      },
      "execution_count": null,
      "outputs": []
    },
    {
      "cell_type": "code",
      "source": [],
      "metadata": {
        "id": "WtXVwWrit24t"
      },
      "execution_count": null,
      "outputs": []
    },
    {
      "cell_type": "code",
      "source": [],
      "metadata": {
        "id": "-ka_Ox-ntwPx"
      },
      "execution_count": null,
      "outputs": []
    },
    {
      "cell_type": "code",
      "source": [],
      "metadata": {
        "id": "lIoUBQzuvIJP"
      },
      "execution_count": null,
      "outputs": []
    },
    {
      "cell_type": "code",
      "source": [],
      "metadata": {
        "id": "svs4mwdcvIND"
      },
      "execution_count": null,
      "outputs": []
    },
    {
      "cell_type": "code",
      "source": [],
      "metadata": {
        "id": "H-1-ZgbZvIQY"
      },
      "execution_count": null,
      "outputs": []
    },
    {
      "cell_type": "code",
      "source": [],
      "metadata": {
        "id": "yIGo-fGoodyN"
      },
      "execution_count": null,
      "outputs": []
    },
    {
      "cell_type": "code",
      "source": [],
      "metadata": {
        "id": "h7CdfrMGod14"
      },
      "execution_count": null,
      "outputs": []
    },
    {
      "cell_type": "code",
      "source": [],
      "metadata": {
        "id": "DKoouH0pn8ET"
      },
      "execution_count": null,
      "outputs": []
    },
    {
      "cell_type": "code",
      "source": [],
      "metadata": {
        "id": "eDOa9NoPn8H4"
      },
      "execution_count": null,
      "outputs": []
    }
  ]
}